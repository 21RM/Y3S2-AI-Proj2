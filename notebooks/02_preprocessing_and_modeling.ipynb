{
 "cells": [
  {
   "cell_type": "markdown",
   "id": "331850c7",
   "metadata": {},
   "source": [
    "# 02_Preprocessing_and_Modeling\n",
    "\n",
    "In this notebook we will build our preprocessing pipelines to handle:\n",
    "1. Missing‐value imputation  \n",
    "2. Categorical variable encoding  \n",
    "3. Feature scaling "
   ]
  },
  {
   "cell_type": "code",
   "execution_count": 136,
   "id": "b3a38238",
   "metadata": {},
   "outputs": [],
   "source": [
    "import pandas as pd\n",
    "import numpy as np\n",
    "from sklearn.model_selection import train_test_split\n",
    "from sklearn.preprocessing import LabelEncoder\n",
    "from sklearn.ensemble import HistGradientBoostingClassifier\n",
    "from sklearn.pipeline import Pipeline\n",
    "from sklearn.compose import ColumnTransformer\n",
    "from sklearn.impute import SimpleImputer\n",
    "from sklearn.preprocessing import StandardScaler, OneHotEncoder, OrdinalEncoder\n",
    "from sklearn.pipeline import Pipeline as Pl\n",
    "from sklearn.feature_selection import VarianceThreshold\n",
    "from sklearn.model_selection import GridSearchCV\n",
    "from sklearn.utils.class_weight import compute_sample_weight\n",
    "from sklearn.metrics import classification_report, confusion_matrix\n",
    "import seaborn as sns\n",
    "import matplotlib.pyplot as plt\n",
    "from imblearn.pipeline import Pipeline as ImbPl\n",
    "from imblearn.over_sampling import SMOTE\n",
    "from imblearn.over_sampling import SMOTENC\n",
    "from sklearn.ensemble import RandomForestClassifier\n",
    "from sklearn.neighbors import KNeighborsClassifier\n",
    "from sklearn.tree import DecisionTreeClassifier\n",
    "from sklearn.svm import SVC\n",
    "from pathlib import Path\n"
   ]
  },
  {
   "cell_type": "markdown",
   "id": "8e497591",
   "metadata": {},
   "source": [
    "## 0. Feature Engineering"
   ]
  },
  {
   "cell_type": "code",
   "execution_count": 137,
   "id": "107d7f12",
   "metadata": {},
   "outputs": [],
   "source": [
    "# Load raw CSV (semicolon-delimited) & tidy headers\n",
    "df = pd.read_csv(Path('../data/data0.csv'), sep=';')\n",
    "df.columns = df.columns.str.strip()"
   ]
  },
  {
   "cell_type": "markdown",
   "id": "3e0081c5",
   "metadata": {},
   "source": [
    "### 0.1 Raw Data Loading & Initial Cleaning\n",
    "\n",
    "1. **Cast Categorical Codes**  \n",
    "   Convert all integer-coded label columns (e.g. marital status, application mode, parental qualifications, etc.) into pandas `category` dtype for efficient storage and downstream encoding.\n",
    "\n",
    "2. **Drop Redundant Feature**  \n",
    "   Remove the `Daytime/evening attendance` column, as it is no longer needed for our analysis.\n",
    "\n",
    "3. **Prune Semester Features**  \n",
    "   From all the “Curricular units” columns, keep only the four key semester metrics (grades and approval flags for 1st and 2nd semester) and drop the rest.\n",
    "\n",
    "After this step, the dataset is tidied and reduced to the core variables we’ll use for feature engineering and modeling."
   ]
  },
  {
   "cell_type": "code",
   "execution_count": 138,
   "id": "b1c19933",
   "metadata": {},
   "outputs": [
    {
     "name": "stdout",
     "output_type": "stream",
     "text": [
      "Cleaned shape: (4424, 28)\n"
     ]
    }
   ],
   "source": [
    "\n",
    "# 1 ── Cast int-coded label columns to category\n",
    "code_cols = [\n",
    "    'Marital status','Application mode','Application order','Course',\n",
    "    'Daytime/evening attendance','Previous qualification','Nacionality',\n",
    "    \"Mother's qualification\",\"Father's qualification\",\n",
    "    'Displaced','Educational special needs','Debtor',\n",
    "    'Tuition fees up to date','Gender','Scholarship holder',\n",
    "    \"Mother's occupation\",\"Father's occupation\",\n",
    "    'International'\n",
    "]\n",
    "df[code_cols] = df[code_cols].astype('category')\n",
    "\n",
    "# 2 ── Drop redundant feature\n",
    "df = df.drop(columns='Daytime/evening attendance')\n",
    "\n",
    "# 3 ── Keep only the four key semester features\n",
    "keep_sem = [\n",
    "    'Curricular units 1st sem (grade)',\n",
    "    'Curricular units 1st sem (approved)',\n",
    "    'Curricular units 2nd sem (grade)',\n",
    "    'Curricular units 2nd sem (approved)'\n",
    "]\n",
    "sem_cols = [c for c in df.columns if 'Curricular units' in c and c not in keep_sem]\n",
    "df = df.drop(columns=sem_cols)\n",
    "\n",
    "print('Cleaned shape:', df.shape)\n"
   ]
  },
  {
   "cell_type": "markdown",
   "id": "eb259998",
   "metadata": {},
   "source": [
    "### 0.2 Resulting columns\n",
    "\n",
    "- **Numeric features** (floats)  \n",
    "- **Categorical features** (integer‐coded categories)"
   ]
  },
  {
   "cell_type": "code",
   "execution_count": 139,
   "id": "24fdc700",
   "metadata": {},
   "outputs": [
    {
     "name": "stdout",
     "output_type": "stream",
     "text": [
      "Categorical features: ['Marital status', 'Application mode', 'Application order', 'Course', 'Previous qualification', 'Nacionality', \"Mother's qualification\", \"Father's qualification\", \"Mother's occupation\", \"Father's occupation\", 'Displaced', 'Educational special needs', 'Debtor', 'Tuition fees up to date', 'Gender', 'Scholarship holder', 'International']\n",
      "Numeric features: ['Previous qualification (grade)', 'Admission grade', 'Age at enrollment', 'Curricular units 1st sem (approved)', 'Curricular units 1st sem (grade)', 'Curricular units 2nd sem (approved)', 'Curricular units 2nd sem (grade)', 'Unemployment rate', 'Inflation rate', 'GDP']\n"
     ]
    }
   ],
   "source": [
    "cat_cols = df.select_dtypes('category').columns.tolist()         \n",
    "num_cols = df.select_dtypes(['int64', 'float64']).columns.tolist()  \n",
    "\n",
    "for lst in (cat_cols, num_cols):\n",
    "    if 'Target' in lst:\n",
    "        lst.remove('Target')\n",
    "\n",
    "print(\"Categorical features:\", cat_cols)\n",
    "print(\"Numeric features:\", num_cols)"
   ]
  },
  {
   "cell_type": "code",
   "execution_count": 140,
   "id": "6b61ebe7",
   "metadata": {},
   "outputs": [
    {
     "name": "stdout",
     "output_type": "stream",
     "text": [
      "Ordinal features : ['Previous qualification', \"Mother's qualification\", \"Father's qualification\", 'Application order']\n",
      "Nominal features : ['Marital status', 'Application mode', 'Course', 'Nacionality', \"Mother's occupation\", \"Father's occupation\", 'Displaced', 'Educational special needs', 'Debtor', 'Tuition fees up to date', 'Gender', 'Scholarship holder', 'International']\n"
     ]
    }
   ],
   "source": [
    "ord_cols = [\n",
    "    'Previous qualification',\n",
    "    \"Mother's qualification\",\n",
    "    \"Father's qualification\",\n",
    "    'Application order'\n",
    "]\n",
    "\n",
    "nom_cols = [c for c in cat_cols if c not in ord_cols]\n",
    "\n",
    "print(\"Ordinal features :\", ord_cols)\n",
    "print(\"Nominal features :\", nom_cols)"
   ]
  },
  {
   "cell_type": "markdown",
   "id": "c2ce6120",
   "metadata": {},
   "source": [
    "### 0.n Encode Target and Stratified Split (70/15/15)\n",
    "\n",
    "1. **Encode the target**  \n",
    "   We convert the `Target` column into numeric labels (`0, 1, ...`) using `LabelEncoder` so that our classifiers can work with it.\n",
    "\n",
    "2. **Create stratified splits**  \n",
    "   To preserve the class distribution in each subset, we perform a two‐stage stratified split:\n",
    "   - **Test set (15%)**: Held out for the *final* evaluation of our models.\n",
    "   - **Validation set (15% of the remaining 85%, i.e. ~12.75% of the total)**: Used for hyperparameter tuning and early stopping.\n",
    "   - **Training set (remaining 70%)**: Used to fit our preprocessing pipelines and train the models.\n",
    "\n",
    "3. **Reproducibility**  \n",
    "   We set `random_state=42` in both splits to ensure that results can be reproduced."
   ]
  },
  {
   "cell_type": "code",
   "execution_count": 141,
   "id": "2985fe9b",
   "metadata": {},
   "outputs": [
    {
     "name": "stdout",
     "output_type": "stream",
     "text": [
      "Train: (3096, 27) Val: (664, 27) Test: (664, 27)\n"
     ]
    }
   ],
   "source": [
    "# 5 ── Encode target and stratify 70/15/15\n",
    "le = LabelEncoder()\n",
    "y = le.fit_transform(df['Target'])\n",
    "X = df.drop(columns='Target')\n",
    "\n",
    "all_features = X.columns.tolist()\n",
    "\n",
    "X_temp, X_test, y_temp, y_test = train_test_split(\n",
    "    X, y, test_size=0.15, stratify=y, random_state=42)\n",
    "\n",
    "X_train, X_val, y_train, y_val = train_test_split(\n",
    "    X_temp, y_temp, test_size=0.1765, stratify=y_temp, random_state=42)\n",
    "\n",
    "print('Train:', X_train.shape, 'Val:', X_val.shape, 'Test:', X_test.shape)"
   ]
  },
  {
   "cell_type": "markdown",
   "id": "0c3b52b7",
   "metadata": {},
   "source": [
    "We replicate the casting and feature-pruning decisions from notebook 01 so that all subsequent preprocessing steps operate on the same cleaned dataset."
   ]
  },
  {
   "cell_type": "markdown",
   "id": "37e7bd41",
   "metadata": {},
   "source": [
    "## 2. Build preprocessing pipelines\n",
    "\n",
    "- **Numeric pipeline**: impute (median) → scale (StandardScaler)  \n",
    "- **Categorical pipeline**: (optional) impute constant → encode (OneHotEncoder)"
   ]
  },
  {
   "cell_type": "code",
   "execution_count": 142,
   "id": "686df6cd",
   "metadata": {},
   "outputs": [
    {
     "name": "stdout",
     "output_type": "stream",
     "text": [
      "Preprocessed X_train shape: (3096, 160)\n"
     ]
    }
   ],
   "source": [
    "# 0 │ Ensure ordinal columns are strings in all splits\n",
    "\n",
    "for df_part in (X_train, X_val, X_test):\n",
    "    df_part[ord_cols] = df_part[ord_cols].astype(str)\n",
    "\n",
    "\n",
    "# 1 │ Custom orders\n",
    "\n",
    "qual_order = [34, 35, 36, 37, 38, 11, 26, 30, 29, 19, 14, 10, 12,  9, 1, 27, 13, 25, 20, 18, 22, 31, 33, 39, 2, 40, 3, 41, 42, 43,4, 44, 5, 6]\n",
    "qual_order_str = list(map(str, qual_order))\n",
    "app_order_str  = list(map(str, range(0, 10)))\n",
    "\n",
    "ord_enc = OrdinalEncoder(\n",
    "    categories=[qual_order_str,           # Previous qualification\n",
    "                qual_order_str,           # Mother's qualification\n",
    "                qual_order_str,           # Father's qualification\n",
    "                app_order_str],           # Application order\n",
    "    dtype='int8',\n",
    "    handle_unknown='use_encoded_value',\n",
    "    unknown_value=-1\n",
    ")\n",
    "\n",
    "\n",
    "# 2 │ Pipelines\n",
    "\n",
    "num_pipe = Pipeline([('scaler', StandardScaler())])\n",
    "\n",
    "ord_pipe = Pipeline([('encoder', ord_enc)])\n",
    "\n",
    "nom_pipe = Pipeline([('onehot', OneHotEncoder(handle_unknown='ignore', sparse_output=False))   ])\n",
    "\n",
    "\n",
    "# 3 │ ColumnTransformer\n",
    "\n",
    "preprocessor = ColumnTransformer(\n",
    "    transformers=[\n",
    "        ('num', num_pipe, num_cols),\n",
    "        ('ord', ord_pipe, ord_cols),\n",
    "        ('nom', nom_pipe, nom_cols)\n",
    "    ],\n",
    "    remainder='drop'\n",
    ")\n",
    "\n",
    "\n",
    "# 4 │ Fit-transform\n",
    "\n",
    "X_train_preprocessed = preprocessor.fit_transform(X_train)\n",
    "print(\"Preprocessed X_train shape:\", X_train_preprocessed.shape)\n"
   ]
  },
  {
   "cell_type": "markdown",
   "id": "c722a353",
   "metadata": {},
   "source": [
    "## 3.1 Full pipeline & hyperparameter tuning -> Random Forest"
   ]
  },
  {
   "cell_type": "code",
   "execution_count": 143,
   "id": "8618c908",
   "metadata": {},
   "outputs": [
    {
     "name": "stdout",
     "output_type": "stream",
     "text": [
      "Best parameters: {'clf__class_weight': 'balanced', 'clf__max_depth': 10, 'clf__n_estimators': 200, 'select__threshold': 0.0}\n",
      "Best CV f1_macro: 0.6984885789168798\n"
     ]
    }
   ],
   "source": [
    "\n",
    "selector = VarianceThreshold(threshold=0.01)\n",
    "\n",
    "# Build the full pipeline\n",
    "rf_pipe = Pl([('preproc', preprocessor), \n",
    "              ('select',  selector), \n",
    "              ('clf', RandomForestClassifier(random_state=42))])\n",
    "\n",
    "rf_param_grid = {\n",
    "    'select__threshold':    [0.0, 0.005, 0.01],  # no selection vs. two levels\n",
    "    'clf__n_estimators':    [100, 200],          # number of trees\n",
    "    'clf__max_depth':       [None, 10, 20],      # tree depth\n",
    "    'clf__class_weight':    [None, 'balanced']   # handle class imbalance\n",
    "}\n",
    "\n",
    "rf_search = GridSearchCV(\n",
    "    rf_pipe,\n",
    "    rf_param_grid,\n",
    "    cv=5,\n",
    "    scoring='f1_macro',\n",
    "    n_jobs=-1,\n",
    "    return_train_score=True,    refit=True,\n",
    "    error_score='raise'\n",
    ")\n",
    "\n",
    "rf_search.fit(X_train, y_train)\n",
    "\n",
    "print(\"Best parameters:\", rf_search.best_params_)\n",
    "print(\"Best CV f1_macro:\", rf_search.best_score_)"
   ]
  },
  {
   "cell_type": "code",
   "execution_count": 144,
   "id": "a4a3b3cb",
   "metadata": {},
   "outputs": [
    {
     "name": "stdout",
     "output_type": "stream",
     "text": [
      "              precision    recall  f1-score   support\n",
      "\n",
      "     Dropout       0.82      0.69      0.75       213\n",
      "    Enrolled       0.45      0.58      0.51       119\n",
      "    Graduate       0.85      0.84      0.84       332\n",
      "\n",
      "    accuracy                           0.75       664\n",
      "   macro avg       0.71      0.71      0.70       664\n",
      "weighted avg       0.77      0.75      0.75       664\n",
      "\n"
     ]
    },
    {
     "data": {
      "image/png": "[encoded data removed]",
      "text/plain": [
       "<Figure size 600x500 with 2 Axes>"
      ]
     },
     "metadata": {},
     "output_type": "display_data"
    }
   ],
   "source": [
    "\n",
    "# Retrieve best model\n",
    "best_model = rf_search.best_estimator_\n",
    "\n",
    "# Predict on test\n",
    "y_pred = best_model.predict(X_test)\n",
    "\n",
    "# Classification report\n",
    "print(classification_report(y_test, y_pred, target_names=le.classes_))\n",
    "\n",
    "# Confusion matrix plot\n",
    "cm = confusion_matrix(y_test, y_pred)\n",
    "plt.figure(figsize=(6,5))\n",
    "sns.heatmap(cm, annot=True, fmt='d', xticklabels=le.classes_, yticklabels=le.classes_)\n",
    "plt.xlabel('Predicted')\n",
    "plt.ylabel('True')\n",
    "plt.title('Test Set Confusion Matrix')\n",
    "plt.show()"
   ]
  },
  {
   "cell_type": "markdown",
   "id": "a5b20dc9",
   "metadata": {},
   "source": [
    "## 3.2 Full pipeline & hyperparameter tuning -> Decision Tree"
   ]
  },
  {
   "cell_type": "code",
   "execution_count": 145,
   "id": "53e2e686",
   "metadata": {},
   "outputs": [
    {
     "name": "stdout",
     "output_type": "stream",
     "text": [
      "Decision Tree best params: {'clf__class_weight': 'balanced', 'clf__max_depth': 5, 'clf__min_samples_split': 2, 'select__threshold': 0.005}\n",
      "Decision Tree best CV f1_macro: 0.6632784005108501\n"
     ]
    }
   ],
   "source": [
    "dt_pipe = Pl([('preproc', preprocessor), ('select',  selector), ('clf', DecisionTreeClassifier(random_state=42))])\n",
    "\n",
    "dt_param_grid = {\n",
    "    'select__threshold':    [0.0, 0.005, 0.01],      # same selector choices\n",
    "    'clf__max_depth':       [None, 5, 10, 20],       # tree depth\n",
    "    'clf__min_samples_split': [2, 5, 10],            # controls overfitting\n",
    "    'clf__class_weight':    [None, 'balanced']       # handle class imbalance\n",
    "}\n",
    "\n",
    "dt_search = GridSearchCV(\n",
    "    dt_pipe,\n",
    "    dt_param_grid,\n",
    "    cv=5,\n",
    "    scoring='f1_macro',\n",
    "    n_jobs=-1,\n",
    "    refit=True,\n",
    "    return_train_score=True,\n",
    "    error_score='raise'\n",
    ")\n",
    "dt_search.fit(X_train, y_train)\n",
    "\n",
    "print(\"Decision Tree best params:\", dt_search.best_params_)\n",
    "print(\"Decision Tree best CV f1_macro:\", dt_search.best_score_)"
   ]
  },
  {
   "cell_type": "code",
   "execution_count": 146,
   "id": "de30b0bf",
   "metadata": {},
   "outputs": [
    {
     "name": "stdout",
     "output_type": "stream",
     "text": [
      "              precision    recall  f1-score   support\n",
      "\n",
      "     Dropout       0.85      0.66      0.74       213\n",
      "    Enrolled       0.41      0.64      0.50       119\n",
      "    Graduate       0.83      0.78      0.80       332\n",
      "\n",
      "    accuracy                           0.72       664\n",
      "   macro avg       0.69      0.69      0.68       664\n",
      "weighted avg       0.76      0.72      0.73       664\n",
      "\n"
     ]
    },
    {
     "data": {
      "image/png": "[encoded data removed]",
      "text/plain": [
       "<Figure size 600x500 with 2 Axes>"
      ]
     },
     "metadata": {},
     "output_type": "display_data"
    }
   ],
   "source": [
    "# Retrieve best model\n",
    "best_model = dt_search.best_estimator_\n",
    "\n",
    "# Predict on test\n",
    "y_pred = best_model.predict(X_test)\n",
    "\n",
    "# Classification report\n",
    "print(classification_report(y_test, y_pred, target_names=le.classes_))\n",
    "\n",
    "# Confusion matrix plot\n",
    "cm = confusion_matrix(y_test, y_pred)\n",
    "plt.figure(figsize=(6,5))\n",
    "sns.heatmap(cm, annot=True, fmt='d', xticklabels=le.classes_, yticklabels=le.classes_)\n",
    "plt.xlabel('Predicted')\n",
    "plt.ylabel('True')\n",
    "plt.title('Test Set Confusion Matrix')\n",
    "plt.show()"
   ]
  },
  {
   "cell_type": "markdown",
   "id": "4530e811",
   "metadata": {},
   "source": [
    "## 3.3 Full pipeline & hyperparameter tuning -> K-Nearest Neighbors"
   ]
  },
  {
   "cell_type": "code",
   "execution_count": 147,
   "id": "c709c40f",
   "metadata": {},
   "outputs": [
    {
     "name": "stdout",
     "output_type": "stream",
     "text": [
      "KNN best params: {'clf__n_neighbors': 9, 'clf__p': 1, 'clf__weights': 'uniform', 'select__threshold': 0.005}\n",
      "KNN best CV f1_macro: 0.5848456842620761\n"
     ]
    }
   ],
   "source": [
    "cat_idx = [all_features.index(c) for c in cat_cols]\n",
    "\n",
    "smote_nc = SMOTENC(\n",
    "    categorical_features=cat_idx,\n",
    "    sampling_strategy='auto',\n",
    "    k_neighbors=3,\n",
    "    random_state=42\n",
    ")\n",
    "\n",
    "\n",
    "knn_pipe = ImbPl([\n",
    "    ('preproc', preprocessor),         \n",
    "    ('smote',   smote_nc), \n",
    "    ('select', VarianceThreshold()),   \n",
    "    ('clf', KNeighborsClassifier()) \n",
    "])\n",
    "\n",
    "knn_param_grid = {\n",
    "    'select__threshold': [0.0, 0.005, 0.01],  # selector choices\n",
    "    'clf__n_neighbors': [3, 5, 7, 9],         # how many neighbors\n",
    "    'clf__weights': ['uniform', 'distance'],  # weighting of votes\n",
    "    'clf__p': [1, 2]                          # L1 (Manhattan) vs. L2 (Euclidean)\n",
    "}\n",
    "\n",
    "knn_search = GridSearchCV(\n",
    "    knn_pipe,\n",
    "    knn_param_grid,\n",
    "    cv=5,\n",
    "    scoring='f1_macro',\n",
    "    n_jobs=-1,\n",
    "    refit=True,\n",
    "    return_train_score=True,\n",
    "    error_score='raise'\n",
    ")\n",
    "knn_search.fit(X_train, y_train)\n",
    "\n",
    "print(\"KNN best params:\", knn_search.best_params_)\n",
    "print(\"KNN best CV f1_macro:\", knn_search.best_score_)"
   ]
  },
  {
   "cell_type": "code",
   "execution_count": 148,
   "id": "18207c8c",
   "metadata": {},
   "outputs": [
    {
     "name": "stdout",
     "output_type": "stream",
     "text": [
      "Best parameters: {'clf__class_weight': 'balanced', 'clf__max_depth': 10, 'clf__n_estimators': 200, 'select__threshold': 0.0}\n",
      "              precision    recall  f1-score   support\n",
      "\n",
      "     Dropout       0.71      0.57      0.63       213\n",
      "    Enrolled       0.35      0.55      0.42       119\n",
      "    Graduate       0.78      0.72      0.75       332\n",
      "\n",
      "    accuracy                           0.64       664\n",
      "   macro avg       0.61      0.61      0.60       664\n",
      "weighted avg       0.68      0.64      0.65       664\n",
      "\n"
     ]
    },
    {
     "data": {
      "image/png": "[encoded data removed]",
      "text/plain": [
       "<Figure size 600x500 with 2 Axes>"
      ]
     },
     "metadata": {},
     "output_type": "display_data"
    }
   ],
   "source": [
    "print(\"Best parameters:\", rf_search.best_params_)\n",
    "\n",
    "# Retrieve best model\n",
    "best_model = knn_search.best_estimator_\n",
    "\n",
    "# Predict on test\n",
    "y_pred = best_model.predict(X_test)\n",
    "\n",
    "# Classification report\n",
    "print(classification_report(y_test, y_pred, target_names=le.classes_))\n",
    "\n",
    "# Confusion matrix plot\n",
    "cm = confusion_matrix(y_test, y_pred)\n",
    "plt.figure(figsize=(6,5))\n",
    "sns.heatmap(cm, annot=True, fmt='d', xticklabels=le.classes_, yticklabels=le.classes_)\n",
    "plt.xlabel('Predicted')\n",
    "plt.ylabel('True')\n",
    "plt.title('Test Set Confusion Matrix')\n",
    "plt.show()"
   ]
  },
  {
   "cell_type": "markdown",
   "id": "627b0e24",
   "metadata": {},
   "source": [
    "## 3.4 Full pipeline & hyperparameter tuning -> HistGradientBoostingClassifier\n"
   ]
  },
  {
   "cell_type": "code",
   "execution_count": 149,
   "id": "3f235a0c",
   "metadata": {},
   "outputs": [
    {
     "name": "stdout",
     "output_type": "stream",
     "text": [
      "Best HGB params: {'clf__l2_regularization': 0.0, 'clf__learning_rate': 0.1, 'clf__max_depth': 5, 'clf__max_iter': 100, 'clf__max_leaf_nodes': 31}\n",
      "Best CV f1_macro: 0.7089961430457393\n",
      "              precision    recall  f1-score   support\n",
      "\n",
      "     Dropout       0.81      0.66      0.73       213\n",
      "    Enrolled       0.44      0.66      0.53       119\n",
      "    Graduate       0.86      0.80      0.83       332\n",
      "\n",
      "    accuracy                           0.73       664\n",
      "   macro avg       0.70      0.71      0.70       664\n",
      "weighted avg       0.77      0.73      0.74       664\n",
      "\n"
     ]
    },
    {
     "data": {
      "image/png": "[encoded data removed]",
      "text/plain": [
       "<Figure size 600x500 with 2 Axes>"
      ]
     },
     "metadata": {},
     "output_type": "display_data"
    }
   ],
   "source": [
    "hgb = HistGradientBoostingClassifier(\n",
    "    early_stopping=True,\n",
    "    validation_fraction=0.1,\n",
    "    n_iter_no_change=10,\n",
    "    random_state=42\n",
    ")\n",
    "\n",
    "# 1) Build the pipeline\n",
    "hgb_pipe = Pipeline([\n",
    "    ('preproc', preprocessor),     \n",
    "    ('select', VarianceThreshold(threshold=0.01)),\n",
    "    ('clf', hgb)\n",
    "])\n",
    "\n",
    "# 2) Define a grid to search\n",
    "hgb_param_grid = {\n",
    "    'clf__learning_rate':     [0.01, 0.1, 0.2],\n",
    "    'clf__max_iter':          [100, 200],\n",
    "    'clf__max_depth':         [None, 3, 5],\n",
    "    'clf__max_leaf_nodes':    [31, 63, 127],\n",
    "    'clf__l2_regularization': [0.0, 1.0]\n",
    "}\n",
    "\n",
    "# 3) Compute sample weights to balance classes\n",
    "sample_weights = compute_sample_weight(class_weight='balanced', y=y_train)\n",
    "\n",
    "# 4) Set up GridSearchCV\n",
    "hgb_search = GridSearchCV(\n",
    "    hgb_pipe,\n",
    "    param_grid=hgb_param_grid,\n",
    "    cv=5,\n",
    "    scoring='f1_macro',\n",
    "    n_jobs=-1,\n",
    "    return_train_score=True\n",
    ")\n",
    "\n",
    "# 5) Fit, passing the sample weights into the classifier step\n",
    "hgb_search.fit(\n",
    "    X_train,\n",
    "    y_train,\n",
    "    **{'clf__sample_weight': sample_weights}\n",
    ")\n",
    "\n",
    "print(\"Best HGB params:\",  hgb_search.best_params_)\n",
    "print(\"Best CV f1_macro:\", hgb_search.best_score_)\n",
    "\n",
    "# 6) Evaluate on test set\n",
    "best_hgb = hgb_search.best_estimator_\n",
    "y_pred   = best_hgb.predict(X_test)\n",
    "\n",
    "print(classification_report(y_test, y_pred, target_names=le.classes_))\n",
    "\n",
    "cm = confusion_matrix(y_test, y_pred)\n",
    "plt.figure(figsize=(6,5))\n",
    "sns.heatmap(cm, annot=True, fmt='d',\n",
    "            xticklabels=le.classes_,\n",
    "            yticklabels=le.classes_)\n",
    "plt.xlabel('Predicted')\n",
    "plt.ylabel('True')\n",
    "plt.title('HGB Test Confusion Matrix')\n",
    "plt.show()"
   ]
  },
  {
   "cell_type": "markdown",
   "id": "c3a9a489",
   "metadata": {},
   "source": [
    "## 3.5 Full pipeline & hyperparameter tuning -> Support Vector Machine\n"
   ]
  },
  {
   "cell_type": "code",
   "execution_count": 150,
   "id": "8c7778b2",
   "metadata": {},
   "outputs": [
    {
     "name": "stdout",
     "output_type": "stream",
     "text": [
      "SVC best params: {'clf__C': 1, 'clf__gamma': 'scale', 'clf__kernel': 'linear', 'select__threshold': 0.01}\n",
      "SVC best CV f1_macro: 0.6810538329508292\n",
      "              precision    recall  f1-score   support\n",
      "\n",
      "     Dropout       0.79      0.75      0.77       213\n",
      "    Enrolled       0.55      0.35      0.43       119\n",
      "    Graduate       0.80      0.92      0.85       332\n",
      "\n",
      "    accuracy                           0.77       664\n",
      "   macro avg       0.71      0.68      0.68       664\n",
      "weighted avg       0.75      0.77      0.75       664\n",
      "\n"
     ]
    },
    {
     "data": {
      "image/png": "[encoded data removed]",
      "text/plain": [
       "<Figure size 600x500 with 2 Axes>"
      ]
     },
     "metadata": {},
     "output_type": "display_data"
    }
   ],
   "source": [
    "svc_pipe = Pl([\n",
    "    ('preproc', preprocessor),\n",
    "    ('select', selector),\n",
    "    ('clf', SVC(random_state=42))\n",
    "])\n",
    "\n",
    "svc_param_grid = {\n",
    "    'select__threshold': [0.0, 0.005, 0.01],\n",
    "    'clf__C': [0.1, 1, 10],\n",
    "    'clf__gamma': ['scale', 'auto'], \n",
    "    'clf__kernel': ['rbf', 'linear', 'poly']\n",
    "}\n",
    "\n",
    "svc_search = GridSearchCV(\n",
    "    svc_pipe,\n",
    "    svc_param_grid,\n",
    "    cv=5,\n",
    "    scoring='f1_macro',\n",
    "    n_jobs=-1,\n",
    "    return_train_score=True,\n",
    "    refit=True,\n",
    "    error_score='raise'\n",
    ")\n",
    "\n",
    "svc_search.fit(X_train, y_train)\n",
    "\n",
    "print(\"SVC best params:\", svc_search.best_params_)\n",
    "print(\"SVC best CV f1_macro:\", svc_search.best_score_)\n",
    "\n",
    "y_pred_svc = svc_search.predict(X_test)\n",
    "print(classification_report(y_test, y_pred_svc, target_names=le.classes_))\n",
    "\n",
    "# confusion matrix\n",
    "cm_svc = confusion_matrix(y_test, y_pred_svc)\n",
    "plt.figure(figsize=(6,5))\n",
    "sns.heatmap(cm_svc, annot=True, fmt='d', xticklabels=le.classes_, yticklabels=le.classes_)\n",
    "plt.xlabel('Predicted')\n",
    "plt.ylabel('True')\n",
    "plt.title('SVC Test Set Confusion Matrix')\n",
    "plt.show()"
   ]
  },
  {
   "cell_type": "markdown",
   "id": "0e489c1e",
   "metadata": {},
   "source": [
    "## 4. Compare Tuned Models\n",
    "\n",
    "We now have:\n",
    "- **RF** tuned via `rf_search.best_params_` \n",
    "- **Decision Tree** tuned via `dt_search.best_params_`  \n",
    "- **KNN** tuned via `knn_search.best_params_`  \n",
    "\n",
    "Next, we’ll collect their best CV F1-macro into a small table, choose the best, and run the final test‐set evaluation on that model."
   ]
  },
  {
   "cell_type": "code",
   "execution_count": 151,
   "id": "25813216",
   "metadata": {},
   "outputs": [
    {
     "data": {
      "text/html": [
       "<div>\n",
       "<style scoped>\n",
       "    .dataframe tbody tr th:only-of-type {\n",
       "        vertical-align: middle;\n",
       "    }\n",
       "\n",
       "    .dataframe tbody tr th {\n",
       "        vertical-align: top;\n",
       "    }\n",
       "\n",
       "    .dataframe thead th {\n",
       "        text-align: right;\n",
       "    }\n",
       "</style>\n",
       "<table border=\"1\" class=\"dataframe\">\n",
       "  <thead>\n",
       "    <tr style=\"text-align: right;\">\n",
       "      <th></th>\n",
       "      <th>CV F1-macro</th>\n",
       "    </tr>\n",
       "  </thead>\n",
       "  <tbody>\n",
       "    <tr>\n",
       "      <th>RandomForest</th>\n",
       "      <td>0.698489</td>\n",
       "    </tr>\n",
       "    <tr>\n",
       "      <th>DecisionTree</th>\n",
       "      <td>0.663278</td>\n",
       "    </tr>\n",
       "    <tr>\n",
       "      <th>KNN</th>\n",
       "      <td>0.584846</td>\n",
       "    </tr>\n",
       "  </tbody>\n",
       "</table>\n",
       "</div>"
      ],
      "text/plain": [
       "              CV F1-macro\n",
       "RandomForest     0.698489\n",
       "DecisionTree     0.663278\n",
       "KNN              0.584846"
      ]
     },
     "execution_count": 151,
     "metadata": {},
     "output_type": "execute_result"
    }
   ],
   "source": [
    "import pandas as pd\n",
    "\n",
    "cv_comparison = pd.DataFrame({\n",
    "    'RandomForest': [rf_search.best_score_],\n",
    "    'DecisionTree': [dt_search.best_score_],\n",
    "    'KNN':          [knn_search.best_score_]\n",
    "}, index=['CV F1-macro']).T\n",
    "\n",
    "cv_comparison"
   ]
  }
 ],
 "metadata": {
  "kernelspec": {
   "display_name": ".venv",
   "language": "python",
   "name": "python3"
  },
  "language_info": {
   "codemirror_mode": {
    "name": "ipython",
    "version": 3
   },
   "file_extension": ".py",
   "mimetype": "text/x-python",
   "name": "python",
   "nbconvert_exporter": "python",
   "pygments_lexer": "ipython3",
   "version": "3.10.12"
  }
 },
 "nbformat": 4,
 "nbformat_minor": 5
}
