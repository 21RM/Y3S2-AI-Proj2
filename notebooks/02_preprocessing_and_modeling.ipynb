{
 "cells": [
  {
   "cell_type": "markdown",
   "id": "331850c7",
   "metadata": {},
   "source": [
    "# 02_Preprocessing_and_Modeling\n",
    "\n",
    "In this notebook we will build our preprocessing pipelines to handle:\n",
    "1. Missing‐value imputation  \n",
    "2. Categorical variable encoding  \n",
    "3. Feature scaling "
   ]
  },
  {
   "cell_type": "code",
   "execution_count": 47,
   "id": "b3a38238",
   "metadata": {},
   "outputs": [],
   "source": [
    "import pandas as pd\n",
    "from sklearn.model_selection import train_test_split\n",
    "from sklearn.preprocessing import LabelEncoder\n",
    "\n",
    "# Reload cleaned data\n",
    "df = pd.read_csv('../data/data0.csv', sep=';')\n",
    "df.columns = df.columns.str.strip()\n",
    "\n",
    "# Encode and split (from previous notebook)\n",
    "le = LabelEncoder()\n",
    "y = le.fit_transform(df['Target'])\n",
    "X = df.drop(columns='Target')\n",
    "X_train, X_test, y_train, y_test = train_test_split(X, y, test_size=0.2, random_state=42, stratify=y)"
   ]
  },
  {
   "cell_type": "markdown",
   "id": "5c448174",
   "metadata": {},
   "source": [
    "## 1. Define which columns go where\n",
    "\n",
    "- **Numeric features** (floats)  \n",
    "- **Categorical features** (integer‐coded categories)"
   ]
  },
  {
   "cell_type": "code",
   "execution_count": 48,
   "id": "d6ed6b85",
   "metadata": {},
   "outputs": [
    {
     "name": "stdout",
     "output_type": "stream",
     "text": [
      "Categorical features:  ['Marital status', 'Application mode', 'Application order', 'Course', 'Daytime/evening attendance', 'Previous qualification', 'Nacionality', \"Mother's qualification\", \"Father's qualification\", \"Mother's occupation\", \"Father's occupation\", 'Displaced', 'Educational special needs', 'Debtor', 'Tuition fees up to date', 'Gender', 'Scholarship holder', 'International']\n",
      "Numeric features:  ['Previous qualification (grade)', 'Admission grade', 'Age at enrollment', 'Curricular units 1st sem (credited)', 'Curricular units 1st sem (enrolled)', 'Curricular units 1st sem (evaluations)', 'Curricular units 1st sem (approved)', 'Curricular units 1st sem (grade)', 'Curricular units 1st sem (without evaluations)', 'Curricular units 2nd sem (credited)', 'Curricular units 2nd sem (enrolled)', 'Curricular units 2nd sem (evaluations)', 'Curricular units 2nd sem (approved)', 'Curricular units 2nd sem (grade)', 'Curricular units 2nd sem (without evaluations)', 'Unemployment rate', 'Inflation rate', 'GDP']\n"
     ]
    }
   ],
   "source": [
    "categorical_cols = [\n",
    "    'Marital status', 'Application mode', 'Application order',\n",
    "    'Course', 'Daytime/evening attendance', 'Previous qualification',\n",
    "    'Nacionality', \"Mother's qualification\", \"Father's qualification\",\n",
    "    \"Mother's occupation\", \"Father's occupation\",\n",
    "    'Displaced', 'Educational special needs', 'Debtor',\n",
    "    'Tuition fees up to date', 'Gender', 'Scholarship holder',\n",
    "    'International'\n",
    "]                                               # TOASK\n",
    "\n",
    "all_features = X.columns.tolist()\n",
    "numeric_cols = [c for c in all_features if c not in categorical_cols]\n",
    "\n",
    "print(\"Categorical features: \", categorical_cols)\n",
    "print(\"Numeric features: \", numeric_cols)"
   ]
  },
  {
   "cell_type": "code",
   "execution_count": 49,
   "id": "4a698c64",
   "metadata": {},
   "outputs": [
    {
     "name": "stdout",
     "output_type": "stream",
     "text": [
      "Ordinal features:  ['Previous qualification', \"Mother's qualification\", \"Father's qualification\", 'Application order']\n",
      "Nominal features:  ['Marital status', 'Application mode', 'Course', 'Daytime/evening attendance', 'Nacionality', \"Mother's occupation\", \"Father's occupation\", 'Displaced', 'Educational special needs', 'Debtor', 'Tuition fees up to date', 'Gender', 'Scholarship holder', 'International']\n"
     ]
    }
   ],
   "source": [
    "ord_cols = [\n",
    "    'Previous qualification',\n",
    "    \"Mother's qualification\",\n",
    "    \"Father's qualification\",\n",
    "    'Application order'\n",
    "]\n",
    "\n",
    "nom_cols = [c for c in categorical_cols if c not in ord_cols]\n",
    "\n",
    "print(\"Ordinal features: \", ord_cols)\n",
    "print(\"Nominal features: \", nom_cols)"
   ]
  },
  {
   "cell_type": "markdown",
   "id": "37e7bd41",
   "metadata": {},
   "source": [
    "## 2. Build preprocessing pipelines\n",
    "\n",
    "- **Numeric pipeline**: impute (median) → scale (StandardScaler)  \n",
    "- **Categorical pipeline**: (optional) impute constant → encode (OneHotEncoder)"
   ]
  },
  {
   "cell_type": "code",
   "execution_count": 50,
   "id": "686df6cd",
   "metadata": {},
   "outputs": [
    {
     "name": "stdout",
     "output_type": "stream",
     "text": [
      "Preprocessed X_train shape: (3539, 170)\n"
     ]
    }
   ],
   "source": [
    "from sklearn.pipeline import Pipeline\n",
    "from sklearn.compose import ColumnTransformer\n",
    "from sklearn.impute import SimpleImputer\n",
    "from sklearn.preprocessing import StandardScaler, OneHotEncoder, OrdinalEncoder\n",
    "\n",
    "# Numeric pipeline: median‐impute → standard scale\n",
    "num_pipe = Pipeline([('imputer', SimpleImputer(strategy='median')), ('scaler',  StandardScaler())])\n",
    "\n",
    "# Ordinal pipeline: constant‐impute → ordinal encode\n",
    "ord_pipe = Pipeline([('imputer', SimpleImputer(strategy='constant', fill_value=-1)), ('encoder', OrdinalEncoder(handle_unknown='use_encoded_value', unknown_value=-1))])\n",
    "\n",
    "# Nominal pipeline: constant‐impute → one‐hot encode\n",
    "nom_pipe = Pipeline([('imputer', SimpleImputer(strategy='constant', fill_value=-1)), ('encoder', OneHotEncoder(handle_unknown='ignore', sparse_output=False))])\n",
    "\n",
    "# Transformer\n",
    "preprocessor = ColumnTransformer(transformers=[\n",
    "    ('num', num_pipe, numeric_cols),\n",
    "    ('ord', ord_pipe,   ord_cols),\n",
    "    ('nom', nom_pipe,   nom_cols)\n",
    "], remainder='drop')\n",
    "\n",
    "X_train_preprocessed = preprocessor.fit_transform(X_train)\n",
    "print(\"Preprocessed X_train shape:\", X_train_preprocessed.shape)"
   ]
  },
  {
   "cell_type": "markdown",
   "id": "c722a353",
   "metadata": {},
   "source": [
    "## 3.1 Full pipeline & hyperparameter tuning -> Random Forest"
   ]
  },
  {
   "cell_type": "code",
   "execution_count": 51,
   "id": "8618c908",
   "metadata": {},
   "outputs": [
    {
     "name": "stdout",
     "output_type": "stream",
     "text": [
      "Best parameters: {'clf__class_weight': 'balanced', 'clf__max_depth': 10, 'clf__n_estimators': 200, 'select__threshold': 0.01}\n",
      "Best CV f1_macro: 0.7158287813795013\n"
     ]
    }
   ],
   "source": [
    "from sklearn.pipeline import Pipeline as Pl\n",
    "from sklearn.feature_selection import VarianceThreshold\n",
    "from sklearn.ensemble import RandomForestClassifier\n",
    "from sklearn.model_selection import GridSearchCV\n",
    "\n",
    "selector = VarianceThreshold(threshold=0.01)\n",
    "\n",
    "# Build the full pipeline\n",
    "rf_pipe = Pl([('preproc', preprocessor), ('select',  selector), ('clf', RandomForestClassifier(random_state=42))])\n",
    "\n",
    "rf_param_grid = {\n",
    "    'select__threshold':    [0.0, 0.005, 0.01],  # no selection vs. two levels\n",
    "    'clf__n_estimators':    [100, 200],          # number of trees\n",
    "    'clf__max_depth':       [None, 10, 20],      # tree depth\n",
    "    'clf__class_weight':    [None, 'balanced']   # handle class imbalance\n",
    "}\n",
    "\n",
    "rf_search = GridSearchCV(\n",
    "    rf_pipe,\n",
    "    rf_param_grid,\n",
    "    cv=5,\n",
    "    scoring='f1_macro',\n",
    "    n_jobs=-1,\n",
    "    return_train_score=True,    refit=True,\n",
    "    error_score='raise'\n",
    ")\n",
    "\n",
    "rf_search.fit(X_train, y_train)\n",
    "\n",
    "print(\"Best parameters:\", rf_search.best_params_)\n",
    "print(\"Best CV f1_macro:\", rf_search.best_score_)"
   ]
  },
  {
   "cell_type": "code",
   "execution_count": 52,
   "id": "a4a3b3cb",
   "metadata": {},
   "outputs": [
    {
     "name": "stdout",
     "output_type": "stream",
     "text": [
      "              precision    recall  f1-score   support\n",
      "\n",
      "     Dropout       0.84      0.68      0.75       284\n",
      "    Enrolled       0.44      0.60      0.51       159\n",
      "    Graduate       0.84      0.84      0.84       442\n",
      "\n",
      "    accuracy                           0.74       885\n",
      "   macro avg       0.71      0.71      0.70       885\n",
      "weighted avg       0.77      0.74      0.75       885\n",
      "\n"
     ]
    },
    {
     "data": {
      "image/png": "[encoded data removed]",
      "text/plain": [
       "<Figure size 600x500 with 2 Axes>"
      ]
     },
     "metadata": {},
     "output_type": "display_data"
    }
   ],
   "source": [
    "from sklearn.metrics import classification_report, confusion_matrix\n",
    "import seaborn as sns\n",
    "import matplotlib.pyplot as plt\n",
    "\n",
    "# Retrieve best model\n",
    "best_model = rf_search.best_estimator_\n",
    "\n",
    "# Predict on test\n",
    "y_pred = best_model.predict(X_test)\n",
    "\n",
    "# Classification report\n",
    "print(classification_report(y_test, y_pred, target_names=le.classes_))\n",
    "\n",
    "# Confusion matrix plot\n",
    "cm = confusion_matrix(y_test, y_pred)\n",
    "plt.figure(figsize=(6,5))\n",
    "sns.heatmap(cm, annot=True, fmt='d', xticklabels=le.classes_, yticklabels=le.classes_)\n",
    "plt.xlabel('Predicted')\n",
    "plt.ylabel('True')\n",
    "plt.title('Test Set Confusion Matrix')\n",
    "plt.show()"
   ]
  },
  {
   "cell_type": "markdown",
   "id": "a5b20dc9",
   "metadata": {},
   "source": [
    "## 3.2 Full pipeline & hyperparameter tuning -> Decision Tree"
   ]
  },
  {
   "cell_type": "code",
   "execution_count": 53,
   "id": "53e2e686",
   "metadata": {},
   "outputs": [
    {
     "name": "stdout",
     "output_type": "stream",
     "text": [
      "Decision Tree best params: {'clf__class_weight': 'balanced', 'clf__max_depth': 5, 'clf__min_samples_split': 2, 'select__threshold': 0.01}\n",
      "Decision Tree best CV f1_macro: 0.6703179606484037\n"
     ]
    }
   ],
   "source": [
    "from sklearn.tree import DecisionTreeClassifier\n",
    "from sklearn.model_selection import GridSearchCV\n",
    "from sklearn.pipeline import Pipeline as Pl\n",
    "\n",
    "dt_pipe = Pl([('preproc', preprocessor), ('select',  selector), ('clf', DecisionTreeClassifier(random_state=42))])\n",
    "\n",
    "dt_param_grid = {\n",
    "    'select__threshold':    [0.0, 0.005, 0.01],      # same selector choices\n",
    "    'clf__max_depth':       [None, 5, 10, 20],       # tree depth\n",
    "    'clf__min_samples_split': [2, 5, 10],            # controls overfitting\n",
    "    'clf__class_weight':    [None, 'balanced']       # handle class imbalance\n",
    "}\n",
    "\n",
    "dt_search = GridSearchCV(\n",
    "    dt_pipe,\n",
    "    dt_param_grid,\n",
    "    cv=5,\n",
    "    scoring='f1_macro',\n",
    "    n_jobs=-1,\n",
    "    refit=True,\n",
    "    return_train_score=True,\n",
    "    error_score='raise'\n",
    ")\n",
    "dt_search.fit(X_train, y_train)\n",
    "\n",
    "print(\"Decision Tree best params:\", dt_search.best_params_)\n",
    "print(\"Decision Tree best CV f1_macro:\", dt_search.best_score_)"
   ]
  },
  {
   "cell_type": "code",
   "execution_count": 54,
   "id": "de30b0bf",
   "metadata": {},
   "outputs": [
    {
     "name": "stdout",
     "output_type": "stream",
     "text": [
      "              precision    recall  f1-score   support\n",
      "\n",
      "     Dropout       0.84      0.61      0.71       284\n",
      "    Enrolled       0.35      0.65      0.46       159\n",
      "    Graduate       0.83      0.73      0.78       442\n",
      "\n",
      "    accuracy                           0.68       885\n",
      "   macro avg       0.68      0.66      0.65       885\n",
      "weighted avg       0.75      0.68      0.70       885\n",
      "\n"
     ]
    },
    {
     "data": {
      "image/png": "[encoded data removed]",
      "text/plain": [
       "<Figure size 600x500 with 2 Axes>"
      ]
     },
     "metadata": {},
     "output_type": "display_data"
    }
   ],
   "source": [
    "from sklearn.metrics import classification_report, confusion_matrix\n",
    "import seaborn as sns\n",
    "import matplotlib.pyplot as plt\n",
    "\n",
    "# Retrieve best model\n",
    "best_model = dt_search.best_estimator_\n",
    "\n",
    "# Predict on test\n",
    "y_pred = best_model.predict(X_test)\n",
    "\n",
    "# Classification report\n",
    "print(classification_report(y_test, y_pred, target_names=le.classes_))\n",
    "\n",
    "# Confusion matrix plot\n",
    "cm = confusion_matrix(y_test, y_pred)\n",
    "plt.figure(figsize=(6,5))\n",
    "sns.heatmap(cm, annot=True, fmt='d', xticklabels=le.classes_, yticklabels=le.classes_)\n",
    "plt.xlabel('Predicted')\n",
    "plt.ylabel('True')\n",
    "plt.title('Test Set Confusion Matrix')\n",
    "plt.show()"
   ]
  },
  {
   "cell_type": "markdown",
   "id": "4530e811",
   "metadata": {},
   "source": [
    "## 3.3 Full pipeline & hyperparameter tuning -> K-Nearest Neighbors"
   ]
  },
  {
   "cell_type": "code",
   "execution_count": 55,
   "id": "c709c40f",
   "metadata": {},
   "outputs": [
    {
     "name": "stdout",
     "output_type": "stream",
     "text": [
      "KNN best params: {'clf__n_neighbors': 5, 'clf__p': 1, 'clf__weights': 'uniform', 'select__threshold': 0.01}\n",
      "KNN best CV f1_macro: 0.5848015485681375\n"
     ]
    }
   ],
   "source": [
    "from sklearn.neighbors      import KNeighborsClassifier\n",
    "from sklearn.model_selection import GridSearchCV\n",
    "from sklearn.pipeline        import Pipeline as Pl\n",
    "\n",
    "knn_pipe = Pl([('preproc', preprocessor), ('select',  selector), ('clf', KNeighborsClassifier())\n",
    "])\n",
    "\n",
    "knn_param_grid = {\n",
    "    'select__threshold': [0.0, 0.005, 0.01],  # selector choices\n",
    "    'clf__n_neighbors': [3, 5, 7, 9],         # how many neighbors\n",
    "    'clf__weights': ['uniform', 'distance'],  # weighting of votes\n",
    "    'clf__p': [1, 2]                          # L1 (Manhattan) vs. L2 (Euclidean)\n",
    "}\n",
    "\n",
    "knn_search = GridSearchCV(\n",
    "    knn_pipe,\n",
    "    knn_param_grid,\n",
    "    cv=5,\n",
    "    scoring='f1_macro',\n",
    "    n_jobs=-1,\n",
    "    refit=True,\n",
    "    return_train_score=True,\n",
    "    error_score='raise'\n",
    ")\n",
    "knn_search.fit(X_train, y_train)\n",
    "\n",
    "print(\"KNN best params:\", knn_search.best_params_)\n",
    "print(\"KNN best CV f1_macro:\", knn_search.best_score_)"
   ]
  },
  {
   "cell_type": "code",
   "execution_count": 56,
   "id": "18207c8c",
   "metadata": {},
   "outputs": [
    {
     "name": "stdout",
     "output_type": "stream",
     "text": [
      "              precision    recall  f1-score   support\n",
      "\n",
      "     Dropout       0.73      0.58      0.65       284\n",
      "    Enrolled       0.41      0.36      0.39       159\n",
      "    Graduate       0.74      0.86      0.80       442\n",
      "\n",
      "    accuracy                           0.68       885\n",
      "   macro avg       0.63      0.60      0.61       885\n",
      "weighted avg       0.68      0.68      0.68       885\n",
      "\n"
     ]
    },
    {
     "data": {
      "image/png": "[encoded data removed]",
      "text/plain": [
       "<Figure size 600x500 with 2 Axes>"
      ]
     },
     "metadata": {},
     "output_type": "display_data"
    }
   ],
   "source": [
    "from sklearn.metrics import classification_report, confusion_matrix\n",
    "import seaborn as sns\n",
    "import matplotlib.pyplot as plt\n",
    "\n",
    "# Retrieve best model\n",
    "best_model = knn_search.best_estimator_\n",
    "\n",
    "# Predict on test\n",
    "y_pred = best_model.predict(X_test)\n",
    "\n",
    "# Classification report\n",
    "print(classification_report(y_test, y_pred, target_names=le.classes_))\n",
    "\n",
    "# Confusion matrix plot\n",
    "cm = confusion_matrix(y_test, y_pred)\n",
    "plt.figure(figsize=(6,5))\n",
    "sns.heatmap(cm, annot=True, fmt='d', xticklabels=le.classes_, yticklabels=le.classes_)\n",
    "plt.xlabel('Predicted')\n",
    "plt.ylabel('True')\n",
    "plt.title('Test Set Confusion Matrix')\n",
    "plt.show()"
   ]
  },
  {
   "cell_type": "markdown",
   "id": "0e489c1e",
   "metadata": {},
   "source": [
    "## 7. Compare Tuned Models\n",
    "\n",
    "We now have:\n",
    "- **RF** tuned via `rf_search.best_params_` \n",
    "- **Decision Tree** tuned via `dt_search.best_params_`  \n",
    "- **KNN** tuned via `knn_search.best_params_`  \n",
    "\n",
    "Next, we’ll collect their best CV F1-macro into a small table, choose the best, and run the final test‐set evaluation on that model."
   ]
  },
  {
   "cell_type": "code",
   "execution_count": 59,
   "id": "25813216",
   "metadata": {},
   "outputs": [
    {
     "data": {
      "text/html": [
       "<div>\n",
       "<style scoped>\n",
       "    .dataframe tbody tr th:only-of-type {\n",
       "        vertical-align: middle;\n",
       "    }\n",
       "\n",
       "    .dataframe tbody tr th {\n",
       "        vertical-align: top;\n",
       "    }\n",
       "\n",
       "    .dataframe thead th {\n",
       "        text-align: right;\n",
       "    }\n",
       "</style>\n",
       "<table border=\"1\" class=\"dataframe\">\n",
       "  <thead>\n",
       "    <tr style=\"text-align: right;\">\n",
       "      <th></th>\n",
       "      <th>CV F1-macro</th>\n",
       "    </tr>\n",
       "  </thead>\n",
       "  <tbody>\n",
       "    <tr>\n",
       "      <th>RandomForest</th>\n",
       "      <td>0.715829</td>\n",
       "    </tr>\n",
       "    <tr>\n",
       "      <th>DecisionTree</th>\n",
       "      <td>0.670318</td>\n",
       "    </tr>\n",
       "    <tr>\n",
       "      <th>KNN</th>\n",
       "      <td>0.584802</td>\n",
       "    </tr>\n",
       "  </tbody>\n",
       "</table>\n",
       "</div>"
      ],
      "text/plain": [
       "              CV F1-macro\n",
       "RandomForest     0.715829\n",
       "DecisionTree     0.670318\n",
       "KNN              0.584802"
      ]
     },
     "execution_count": 59,
     "metadata": {},
     "output_type": "execute_result"
    }
   ],
   "source": [
    "import pandas as pd\n",
    "\n",
    "cv_comparison = pd.DataFrame({\n",
    "    'RandomForest': [rf_search.best_score_],\n",
    "    'DecisionTree': [dt_search.best_score_],\n",
    "    'KNN':          [knn_search.best_score_]\n",
    "}, index=['CV F1-macro']).T\n",
    "\n",
    "cv_comparison"
   ]
  }
 ],
 "metadata": {
  "kernelspec": {
   "display_name": "proj2-env",
   "language": "python",
   "name": "python3"
  },
  "language_info": {
   "codemirror_mode": {
    "name": "ipython",
    "version": 3
   },
   "file_extension": ".py",
   "mimetype": "text/x-python",
   "name": "python",
   "nbconvert_exporter": "python",
   "pygments_lexer": "ipython3",
   "version": "3.13.2"
  }
 },
 "nbformat": 4,
 "nbformat_minor": 5
}
